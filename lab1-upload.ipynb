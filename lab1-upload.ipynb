{
 "cells": [
  {
   "cell_type": "code",
   "execution_count": 3,
   "id": "f7677beb",
   "metadata": {},
   "outputs": [
    {
     "name": "stdout",
     "output_type": "stream",
     "text": [
      "2.0.1\n"
     ]
    }
   ],
   "source": [
    "# import library\n",
    "\n"
   ]
  },
  {
   "cell_type": "markdown",
   "id": "d5b7bafe",
   "metadata": {},
   "source": [
    "## 1. Interconversion"
   ]
  },
  {
   "cell_type": "markdown",
   "id": "396c2d95",
   "metadata": {},
   "source": [
    "### 1.1 Converting from NumPy to PyTorch Tensor"
   ]
  },
  {
   "cell_type": "code",
   "execution_count": 6,
   "id": "81a0d1e2",
   "metadata": {},
   "outputs": [],
   "source": [
    "def numpy2tensor(x):\n",
    "    \"\"\"\n",
    "    Creates a torch.Tensor from a numpy.ndarray.\n",
    "\n",
    "    Parameters:\n",
    "    x (numpy.ndarray): 1-dimensional numpy array.\n",
    "\n",
    "    Returns:\n",
    "    torch.Tensor: 1-dimensional torch tensor.\n",
    "    \"\"\"\n",
    "    \n",
    "    # TODO\n",
    "    \n",
    "\n",
    "    return x"
   ]
  },
  {
   "cell_type": "code",
   "execution_count": 8,
   "id": "5097e1ad",
   "metadata": {
    "scrolled": true
   },
   "outputs": [
    {
     "name": "stdout",
     "output_type": "stream",
     "text": [
      "<class 'torch.Tensor'>\n"
     ]
    }
   ],
   "source": [
    "X = np.random.randint(-1000, 1000, size=3000)\n",
    "\n",
    "print(type(numpy2tensor(X)))"
   ]
  },
  {
   "cell_type": "markdown",
   "id": "e4275906",
   "metadata": {},
   "source": [
    "### 1.2 Converting from PyTorch Tensor to NumPy"
   ]
  },
  {
   "cell_type": "code",
   "execution_count": null,
   "id": "b5afb130",
   "metadata": {},
   "outputs": [],
   "source": [
    "def tensor2numpy(x):\n",
    "    \"\"\"\n",
    "    Creates a numpy.ndarray from a torch.Tensor.\n",
    "\n",
    "    Parameters:\n",
    "    x (torch.Tensor): 1-dimensional torch tensor.\n",
    "\n",
    "    Returns:\n",
    "    numpy.ndarray: 1-dimensional numpy array.\n",
    "    \"\"\"\n",
    "    \n",
    "    # TODO\n",
    "\n",
    "\n",
    "    return x"
   ]
  },
  {
   "cell_type": "code",
   "execution_count": 3,
   "id": "a935d0aa",
   "metadata": {
    "scrolled": true
   },
   "outputs": [
    {
     "name": "stdout",
     "output_type": "stream",
     "text": [
      "<class 'numpy.ndarray'>\n"
     ]
    }
   ],
   "source": [
    "X = np.random.randint(-1000, 1000, size=3000)\n",
    "X = torch.from_numpy(X)\n",
    "\n",
    "print(type(tensor2numpy(X)))"
   ]
  },
  {
   "cell_type": "markdown",
   "id": "13f886b1",
   "metadata": {},
   "source": [
    "## 2. Vectorization"
   ]
  },
  {
   "cell_type": "markdown",
   "id": "772ffc66",
   "metadata": {},
   "source": [
    "### 2.1 Dot Product"
   ]
  },
  {
   "cell_type": "code",
   "execution_count": 4,
   "id": "55174223",
   "metadata": {},
   "outputs": [],
   "source": [
    "def PYTORCH_dot(x, y):\n",
    "    \"\"\"\n",
    "    Dot product of two tensors.\n",
    "\n",
    "    Parameters:\n",
    "    x (torch.Tensor): 1-dimensional torch tensor.\n",
    "    y (torch.Tensor): 1-dimensional torch tensor.\n",
    "\n",
    "    Returns:\n",
    "    torch.int64: scalar quantity.\n",
    "    \"\"\"\n",
    "    \n",
    "    # TODO\n",
    "    \n",
    "    \n",
    "    return z"
   ]
  },
  {
   "cell_type": "code",
   "execution_count": 9,
   "id": "7be34273",
   "metadata": {},
   "outputs": [
    {
     "name": "stdout",
     "output_type": "stream",
     "text": [
      "tensor(7082791)\n"
     ]
    }
   ],
   "source": [
    "np.random.seed(0)\n",
    "X = np.random.randint(-1000, 1000, size=3000)\n",
    "Y = np.random.randint(-1000, 1000, size=3000)\n",
    "X = numpy2tensor(X)\n",
    "Y = numpy2tensor(Y)\n",
    "\n",
    "print(PYTORCH_dot(X,Y))"
   ]
  },
  {
   "cell_type": "markdown",
   "id": "4bac0ab2",
   "metadata": {},
   "source": [
    "### 2.2 Outer Product"
   ]
  },
  {
   "cell_type": "code",
   "execution_count": 10,
   "id": "ae487c5a",
   "metadata": {},
   "outputs": [],
   "source": [
    "def PYTORCH_outer(x, y):\n",
    "    \"\"\"\n",
    "    Compute the outer product of two vectors.\n",
    "\n",
    "    Parameters:\n",
    "    x (torch.Tensor): 1-dimensional torch tensor.\n",
    "    y (torch.Tensor): 1-dimensional torch tensor.\n",
    "\n",
    "    Returns:\n",
    "    torch.Tensor: 2-dimensional torch tensor.\n",
    "    \"\"\"\n",
    "    # TODO\n",
    "    \n",
    "\n",
    "    return z"
   ]
  },
  {
   "cell_type": "code",
   "execution_count": 11,
   "id": "357c4724",
   "metadata": {},
   "outputs": [
    {
     "name": "stdout",
     "output_type": "stream",
     "text": [
      "tensor([[  59092, -144096,  136512,  ...,  -53088,  -86268,   53404],\n",
      "        [  82467, -201096,  190512,  ...,  -74088, -120393,   74529],\n",
      "        [-122111,  297768, -282096,  ...,  109704,  178269, -110357],\n",
      "        ...,\n",
      "        [-144551,  352488, -333936,  ...,  129864,  211029, -130637],\n",
      "        [-179707,  438216, -415152,  ...,  161448,  262353, -162409],\n",
      "        [  88825, -216600,  205200,  ...,  -79800, -129675,   80275]])\n"
     ]
    }
   ],
   "source": [
    "np.random.seed(0)\n",
    "X = np.random.randint(-1000, 1000, size=3000)\n",
    "Y = np.random.randint(-1000, 1000, size=3000)\n",
    "X = numpy2tensor(X)\n",
    "Y = numpy2tensor(Y)\n",
    "\n",
    "print(PYTORCH_outer(X,Y))"
   ]
  },
  {
   "cell_type": "markdown",
   "id": "bc40d24a",
   "metadata": {},
   "source": [
    "### 2.3 Hadamard Product"
   ]
  },
  {
   "cell_type": "code",
   "execution_count": 12,
   "id": "2ed294b3",
   "metadata": {},
   "outputs": [],
   "source": [
    "def PYTORCH_multiply(x, y):\n",
    "    \"\"\"\n",
    "    Multiply arguments element-wise.\n",
    "\n",
    "    Parameters:\n",
    "    x (torch.Tensor): 1-dimensional torch tensor.\n",
    "    y (torch.Tensor): 1-dimensional torch tensor.\n",
    "\n",
    "    Returns:\n",
    "    torch.Tensor: 1-dimensional torch tensor.\n",
    "    \"\"\"\n",
    "    \n",
    "    # TODO\n",
    "    \n",
    "\n",
    "    return z "
   ]
  },
  {
   "cell_type": "code",
   "execution_count": 13,
   "id": "36b19ea4",
   "metadata": {},
   "outputs": [
    {
     "name": "stdout",
     "output_type": "stream",
     "text": [
      "tensor([  59092, -201096, -282096,  ...,  129864,  262353,   80275])\n"
     ]
    }
   ],
   "source": [
    "np.random.seed(0)\n",
    "X = np.random.randint(-1000, 1000, size=3000)\n",
    "Y = np.random.randint(-1000, 1000, size=3000)\n",
    "X = numpy2tensor(X)\n",
    "Y = numpy2tensor(Y)\n",
    "\n",
    "print(PYTORCH_multiply(X,Y))"
   ]
  },
  {
   "cell_type": "markdown",
   "id": "aa8272fc",
   "metadata": {},
   "source": [
    "### 2.4 Sum-Product"
   ]
  },
  {
   "cell_type": "code",
   "execution_count": 14,
   "id": "f2fab1c2",
   "metadata": {},
   "outputs": [],
   "source": [
    "def PYTORCH_sumproduct(x, y):\n",
    "    \"\"\"\n",
    "    Sum over all the dimensions of the outer product of two vectors.\n",
    "\n",
    "    Parameters:\n",
    "    x (torch.Tensor): 1-dimensional torch tensor.\n",
    "    y (torch.Tensor): 1-dimensional torch tensor.\n",
    "\n",
    "    Returns:\n",
    "    torch.int64: scalar quantity.\n",
    "    \"\"\"\n",
    "    \n",
    "    # TODO\n",
    "    \n",
    "    \n",
    "\n",
    "    return z"
   ]
  },
  {
   "cell_type": "code",
   "execution_count": 15,
   "id": "0a81e330",
   "metadata": {},
   "outputs": [
    {
     "name": "stdout",
     "output_type": "stream",
     "text": [
      "tensor(265421520)\n"
     ]
    }
   ],
   "source": [
    "np.random.seed(0)\n",
    "X = np.random.randint(-1000, 1000, size=3000)\n",
    "Y = np.random.randint(-1000, 1000, size=3000)\n",
    "X = numpy2tensor(X)\n",
    "Y = numpy2tensor(Y)\n",
    "\n",
    "print(PYTORCH_sumproduct(X,Y))"
   ]
  },
  {
   "cell_type": "markdown",
   "id": "77736de2",
   "metadata": {},
   "source": [
    "### **3. Tensor Manipulation**\n",
    "\n",
    "PyTorch offers a wide range of tensor manipulation tasks that empower users to efficiently process and transform data within neural network workflows.\n",
    "These tasks include :\n",
    "1.  Flatten\n",
    "2.  Unsqueeze\n",
    "3.  Squeeze\n",
    "4.  Reshape\n",
    "5.  Transpose\n",
    "6.  Permute\n",
    "7.  Concatenation\n",
    "8.  Stack\n",
    "9.  Padding"
   ]
  },
  {
   "cell_type": "markdown",
   "id": "57f0882a",
   "metadata": {},
   "source": [
    "#### 3.1 Flatten\n",
    "\n",
    "In this task, you will implement the flatten function for torch tensors.\n",
    "\n",
    "\n",
    "\n",
    "\n",
    "**Your Task:** Implement the function `PYTORCH_flatten`."
   ]
  },
  {
   "cell_type": "code",
   "execution_count": 7,
   "id": "49996c24",
   "metadata": {},
   "outputs": [],
   "source": [
    "def PYTORCH_flatten(input_tensor):\n",
    "    \"\"\"\n",
    "    Reshapes a tensor into a 1-dimensional array \n",
    "    while maintaining the order of elements.\n",
    "\n",
    "    Parameters:\n",
    "    x (torch.Tensor): 3-dimensional torch tensor.\n",
    "\n",
    "    Returns:\n",
    "    torch.Tensor: 1-dimensional torch tensor.\n",
    "    \"\"\"\n",
    "    # TODO\n",
    "    \n",
    "\n",
    "    return z"
   ]
  },
  {
   "cell_type": "code",
   "execution_count": 25,
   "id": "351f4ba8",
   "metadata": {},
   "outputs": [
    {
     "name": "stdout",
     "output_type": "stream",
     "text": [
      "Original tensor([[[  2,   5, -10,  -7],\n",
      "         [ -7,  -3,  -1,   9],\n",
      "         [  8,  -6,  -4,   2]],\n",
      "\n",
      "        [[ -9,  -4,  -3,   4],\n",
      "         [  7,  -5,   3,  -2],\n",
      "         [ -1,   9,   6,   9]]])\n",
      "New tensor([  2,   5, -10,  -7,  -7,  -3,  -1,   9,   8,  -6,  -4,   2,  -9,  -4,\n",
      "         -3,   4,   7,  -5,   3,  -2,  -1,   9,   6,   9])\n"
     ]
    }
   ],
   "source": [
    "np.random.seed(0)\n",
    "X = np.random.randint(-10, 10, size=(2,3,4))\n",
    "X = numpy2tensor(X)\n",
    "print('Original',X)\n",
    "print('New',PYTORCH_flatten(X))"
   ]
  },
  {
   "cell_type": "markdown",
   "id": "1f03692c",
   "metadata": {},
   "source": [
    "#### 3.2 Unsqueeze\n",
    "\n",
    "In this task, you will implement the unsqueeze function for torch tensors along given dimension.\n",
    "\n",
    "\n",
    "\n",
    "\n",
    "**Your Task:** Implement the function `PYTORCH_unsqueeze`."
   ]
  },
  {
   "cell_type": "code",
   "execution_count": 26,
   "id": "e4d2af75",
   "metadata": {},
   "outputs": [],
   "source": [
    "def PYTORCH_unsqueeze(X,dim):\n",
    "    \"\"\"\n",
    "    Adds a new dimension to a tensor at the specified position 'dim'.\n",
    "\n",
    "    Parameters:\n",
    "    x (torch.Tensor): 2-dimensional torch tensor.\n",
    "\n",
    "    dim (int): scalar.\n",
    "\n",
    "    Returns:\n",
    "    torch.Tensor: 3-dimensional torch tensor.\n",
    "    \"\"\"\n",
    "    \n",
    "    #TODO\n",
    "    \n",
    "\n",
    "    return z "
   ]
  },
  {
   "cell_type": "code",
   "execution_count": 27,
   "id": "f7f568ad",
   "metadata": {},
   "outputs": [
    {
     "name": "stdout",
     "output_type": "stream",
     "text": [
      "Original tensor([[4, 0, 3],\n",
      "        [3, 3, 1]])\n",
      "New tensor([[[4, 0, 3],\n",
      "         [3, 3, 1]]])\n",
      "Shape before unsqueeze:  torch.Size([2, 3])\n",
      "Shape after unsqueeze:  torch.Size([1, 2, 3])\n"
     ]
    }
   ],
   "source": [
    "np.random.seed(0)\n",
    "X = np.random.randint(0, 5, size=(2,3))\n",
    "X = numpy2tensor(X)\n",
    "print('Original',X)\n",
    "print('New',PYTORCH_unsqueeze(X,0))\n",
    "print(\"Shape before unsqueeze: \",X.shape)\n",
    "print(\"Shape after unsqueeze: \",PYTORCH_unsqueeze(X,0).shape)"
   ]
  },
  {
   "cell_type": "markdown",
   "id": "13d380dd",
   "metadata": {},
   "source": [
    "#### 3.3 Squeeze\n",
    "\n",
    "In this task, you will implement the squeeze function for torch tensors along axis with dimension 1 (axis = 0).\n",
    "\n",
    "\n",
    "\n",
    "\n",
    "**Your Task:** Implement the function `PYTORCH_squeeze`."
   ]
  },
  {
   "cell_type": "code",
   "execution_count": 28,
   "id": "1fc9effe",
   "metadata": {},
   "outputs": [],
   "source": [
    "def PYTORCH_squeeze(X,dim):\n",
    "    \"\"\"\n",
    "    Removes dimension to a tensor at the specified position 'dim'.\n",
    "\n",
    "    Parameters:\n",
    "    x (torch.Tensor): 2-dimensional torch tensor.\n",
    "\n",
    "    dim (integer): scalar.\n",
    "\n",
    "    Returns:\n",
    "    torch.Tensor: 1-dimensional torch tensor.\n",
    "    \"\"\"\n",
    "    \n",
    "    #TODO\n",
    "    \n",
    "\n",
    "    return z "
   ]
  },
  {
   "cell_type": "code",
   "execution_count": 29,
   "id": "5f176aa1",
   "metadata": {},
   "outputs": [
    {
     "name": "stdout",
     "output_type": "stream",
     "text": [
      "Original tensor([[5, 0, 3, 3, 7]])\n",
      "New tensor([5, 0, 3, 3, 7])\n",
      "Shape of tensor before squeeze:  torch.Size([1, 5])\n",
      "Shape of tensor after squeeze:  torch.Size([5])\n"
     ]
    }
   ],
   "source": [
    "np.random.seed(0)\n",
    "X = np.random.randint(0, 10, size=(1,5))\n",
    "X = numpy2tensor(X)\n",
    "print('Original',X)\n",
    "print('New',PYTORCH_squeeze(X,0))\n",
    "print(\"Shape of tensor before squeeze: \",X.shape)\n",
    "print(\"Shape of tensor after squeeze: \",PYTORCH_squeeze(X,0).shape )"
   ]
  },
  {
   "cell_type": "markdown",
   "id": "ee9c1ceb",
   "metadata": {},
   "source": [
    "#### 3.4 Reshape\n",
    "\n",
    "In this task, you will implement the reshape function for torch tensors.\n",
    "\n",
    "\n",
    "\n",
    "\n",
    "**Your Task:** Implement the function `PYTORCH_reshape`."
   ]
  },
  {
   "cell_type": "code",
   "execution_count": 30,
   "id": "ac1eeedd",
   "metadata": {},
   "outputs": [],
   "source": [
    "def PYTORCH_reshape(X,new_shape):\n",
    "    \"\"\"\n",
    "    Reorganizes the tensor's elements to match a specified shape \n",
    "    while maintaining the same number of elements.\n",
    "\n",
    "    Parameters:\n",
    "    x (torch.Tensor): 3-dimensional torch tensor.\n",
    "\n",
    "    new_shape (tuple): tuple with 3 elements \n",
    "    which represents the new shape of the tensor.\n",
    "\n",
    "    Returns:\n",
    "    torch.Tensor: torch tensor of dimension 'new_shape'.\n",
    "    \"\"\"\n",
    "    \n",
    "    #TODO\n",
    "    \n",
    "\n",
    "    return z "
   ]
  },
  {
   "cell_type": "code",
   "execution_count": 31,
   "id": "795243bc",
   "metadata": {},
   "outputs": [
    {
     "name": "stdout",
     "output_type": "stream",
     "text": [
      "Original tensor([[5, 0, 3, 3, 7, 9, 3, 5, 2, 4],\n",
      "        [7, 6, 8, 8, 1, 6, 7, 7, 8, 1],\n",
      "        [5, 9, 8, 9, 4, 3, 0, 3, 5, 0]])\n",
      "New tensor([[[5, 0, 3, 3, 7],\n",
      "         [9, 3, 5, 2, 4],\n",
      "         [7, 6, 8, 8, 1]],\n",
      "\n",
      "        [[6, 7, 7, 8, 1],\n",
      "         [5, 9, 8, 9, 4],\n",
      "         [3, 0, 3, 5, 0]]])\n"
     ]
    }
   ],
   "source": [
    "np.random.seed(0)\n",
    "X = np.random.randint(0, 10, size=(3,10))\n",
    "X = numpy2tensor(X)\n",
    "print('Original',X)\n",
    "print('New',PYTORCH_reshape(X,(2,3,5)))"
   ]
  },
  {
   "cell_type": "markdown",
   "id": "eed4d891",
   "metadata": {},
   "source": [
    "#### 3.5 Transpose\n",
    "\n",
    "In this task, you will implement the transpose function for torch tensors.\n",
    "\n",
    "\n",
    "\n",
    "\n",
    "**Your Task:** Implement the function `PYTORCH_transpose`."
   ]
  },
  {
   "cell_type": "code",
   "execution_count": 32,
   "id": "8d7563da",
   "metadata": {},
   "outputs": [],
   "source": [
    "def PYTORCH_transpose(X,dim0,dim1):\n",
    "    \"\"\"\n",
    "    Reorganizes the tensor's elements and shape effectively \n",
    "    by swapping along given direction.\n",
    "\n",
    "    Parameters:\n",
    "    x (torch.Tensor): 3-dimensional torch tensor.\n",
    "\n",
    "    dim0 (int): the first dimension to be transposed.\n",
    "\n",
    "    dim1 (int): the second dimension to be transposed.\n",
    "\n",
    "    Returns:\n",
    "    torch.Tensor: torch tensor of transposed version input.\n",
    "    \"\"\"\n",
    "    \n",
    "    #TODO\n",
    "    \n",
    "\n",
    "    return z "
   ]
  },
  {
   "cell_type": "code",
   "execution_count": 34,
   "id": "a4592cd7",
   "metadata": {},
   "outputs": [
    {
     "name": "stdout",
     "output_type": "stream",
     "text": [
      "Original tensor([[[5, 0, 3, 3],\n",
      "         [7, 9, 3, 5],\n",
      "         [2, 4, 7, 6]]])\n",
      "New tensor([[[5, 7, 2],\n",
      "         [0, 9, 4],\n",
      "         [3, 3, 7],\n",
      "         [3, 5, 6]]])\n"
     ]
    }
   ],
   "source": [
    "np.random.seed(0)\n",
    "X = np.random.randint(0, 10, size=(1,3,4))\n",
    "X = numpy2tensor(X)\n",
    "print('Original',X)\n",
    "print('New',PYTORCH_transpose(X,1,2))"
   ]
  },
  {
   "cell_type": "markdown",
   "id": "9ba30c58",
   "metadata": {},
   "source": [
    "#### 3.6 Permute\n",
    "\n",
    "In this task, you will implement the permute function for torch tensors.\n",
    "\n",
    "\n",
    "\n",
    "\n",
    "**Your Task:** Implement the function `PYTORCH_permute`."
   ]
  },
  {
   "cell_type": "code",
   "execution_count": 35,
   "id": "2c258e9e",
   "metadata": {},
   "outputs": [],
   "source": [
    "def PYTORCH_permute(X,dims):\n",
    "    \"\"\"\n",
    "    Reorganizes the the dimensions of a tensor according \n",
    "    to a specified permutation tuple while maintaining the data's order.\n",
    "\n",
    "    Parameters:\n",
    "    x (torch.Tensor): 3-dimensional torch tensor.\n",
    "\n",
    "    dims (tuple): tuple of integers that represents axis to be permuted\n",
    "\n",
    "    Returns:\n",
    "    torch.Tensor: torch tensor of permuted version input.\n",
    "    \"\"\"\n",
    "    \n",
    "    #TODO\n",
    "    \n",
    "\n",
    "    return z "
   ]
  },
  {
   "cell_type": "code",
   "execution_count": 36,
   "id": "a93e7b26",
   "metadata": {},
   "outputs": [
    {
     "name": "stdout",
     "output_type": "stream",
     "text": [
      "Original tensor([[[5, 0, 3, 3],\n",
      "         [7, 9, 3, 5],\n",
      "         [2, 4, 7, 6]],\n",
      "\n",
      "        [[8, 8, 1, 6],\n",
      "         [7, 7, 8, 1],\n",
      "         [5, 9, 8, 9]]])\n",
      "New tensor([[[5, 7, 2],\n",
      "         [8, 7, 5]],\n",
      "\n",
      "        [[0, 9, 4],\n",
      "         [8, 7, 9]],\n",
      "\n",
      "        [[3, 3, 7],\n",
      "         [1, 8, 8]],\n",
      "\n",
      "        [[3, 5, 6],\n",
      "         [6, 1, 9]]])\n"
     ]
    }
   ],
   "source": [
    "np.random.seed(0)\n",
    "X = np.random.randint(0, 10, size=(2,3,4))\n",
    "X = numpy2tensor(X)\n",
    "print('Original',X)\n",
    "print('New',PYTORCH_permute(X,(2,0,1)))"
   ]
  },
  {
   "cell_type": "markdown",
   "id": "d39c861b",
   "metadata": {},
   "source": [
    "#### 3.7 Concatenate\n",
    "\n",
    "In this task, you will implement the Concatenate function for torch tensors.\n",
    "\n",
    "\n",
    "\n",
    "\n",
    "**Your Task:** Implement the function `PYTORCH_concatenate`."
   ]
  },
  {
   "cell_type": "code",
   "execution_count": 40,
   "id": "50e39610",
   "metadata": {},
   "outputs": [],
   "source": [
    "def PYTORCH_concatenate(tensors,dim):\n",
    "    \"\"\"\n",
    "    Reorganizes the the dimensions of a tensor according to \n",
    "    a specified permutation tuple while maintaining the data's order.\n",
    "\n",
    "    Parameters:\n",
    "    tensors (tuple): tuple of Tensors with same shape except \n",
    "    in concatenate dimension.\n",
    "\n",
    "    dim (int): concatenate dimension\n",
    "\n",
    "    Returns:\n",
    "    torch.Tensor: concatenated tensor.\n",
    "    \"\"\"\n",
    "    \n",
    "    #TODO\n",
    "    \n",
    "\n",
    "    return z "
   ]
  },
  {
   "cell_type": "code",
   "execution_count": 42,
   "id": "1a3ae4d9",
   "metadata": {},
   "outputs": [
    {
     "name": "stdout",
     "output_type": "stream",
     "text": [
      "Original x tensor([[[5, 0, 3, 3],\n",
      "         [7, 9, 3, 5],\n",
      "         [2, 4, 7, 6]],\n",
      "\n",
      "        [[8, 8, 1, 6],\n",
      "         [7, 7, 8, 1],\n",
      "         [5, 9, 8, 9]]])\n",
      "Original y tensor([[[0, 0, 1],\n",
      "         [2, 0, 2],\n",
      "         [0, 1, 1]],\n",
      "\n",
      "        [[2, 0, 1],\n",
      "         [1, 1, 0],\n",
      "         [2, 0, 2]]])\n",
      "New tensor([[[5, 0, 3, 3, 0, 0, 1],\n",
      "         [7, 9, 3, 5, 2, 0, 2],\n",
      "         [2, 4, 7, 6, 0, 1, 1]],\n",
      "\n",
      "        [[8, 8, 1, 6, 2, 0, 1],\n",
      "         [7, 7, 8, 1, 1, 1, 0],\n",
      "         [5, 9, 8, 9, 2, 0, 2]]])\n"
     ]
    }
   ],
   "source": [
    "np.random.seed(0)\n",
    "X = np.random.randint(0, 10, size=(2,3,4))\n",
    "Y = np.random.randint(0, 3, size=(2,3,3))\n",
    "X = numpy2tensor(X)\n",
    "Y = numpy2tensor(Y)\n",
    "print('Original x',X)\n",
    "print('Original y',Y)\n",
    "print('New',PYTORCH_concatenate((X,Y),2))"
   ]
  },
  {
   "cell_type": "markdown",
   "id": "7a548e69",
   "metadata": {},
   "source": [
    "#### 3.8 Stack\n",
    "\n",
    "In this task, you will implement the stack function for torch tensors.\n",
    "\n",
    "\n",
    "\n",
    "\n",
    "**Your Task:** Implement the function `PYTORCH_stack`."
   ]
  },
  {
   "cell_type": "code",
   "execution_count": 43,
   "id": "a5a23cba",
   "metadata": {},
   "outputs": [],
   "source": [
    "def PYTORCH_stack(tensors,dim):\n",
    "    \"\"\"\n",
    "    In contrast to Concatenation, which merges two tensors \n",
    "    along an existing dimension,\n",
    "    Stack creates a new dimension to combine tensors.\n",
    "\n",
    "    Parameters:\n",
    "    tensors (tuple):  tuple of tensors to be stacked\n",
    "    dim (int): dimension to insert.\n",
    "\n",
    "    Returns:\n",
    "    torch.Tensor: stacked tensor.\n",
    "    \"\"\"\n",
    "    \n",
    "    #TODO\n",
    "    \n",
    "\n",
    "    return z "
   ]
  },
  {
   "cell_type": "code",
   "execution_count": 44,
   "id": "ec1ad279",
   "metadata": {},
   "outputs": [
    {
     "name": "stdout",
     "output_type": "stream",
     "text": [
      "Original x tensor([[5, 0, 3],\n",
      "        [3, 7, 9]])\n",
      "Original y tensor([[1, 2, 0],\n",
      "        [2, 0, 0]])\n",
      "New tensor([[[5, 0, 3],\n",
      "         [1, 2, 0]],\n",
      "\n",
      "        [[3, 7, 9],\n",
      "         [2, 0, 0]]])\n"
     ]
    }
   ],
   "source": [
    "np.random.seed(0)\n",
    "X = np.random.randint(0, 10, size=(2,3))\n",
    "Y = np.random.randint(0, 3, size=(2,3))\n",
    "X = numpy2tensor(X)\n",
    "Y = numpy2tensor(Y)\n",
    "print('Original x',X)\n",
    "print('Original y',Y)\n",
    "print('New',PYTORCH_stack((X,Y),1))"
   ]
  },
  {
   "cell_type": "markdown",
   "id": "f0fecd2a",
   "metadata": {},
   "source": [
    "#### 3.9 Padding\n",
    "\n",
    "In this task, you will implement the padding  function for torch tensors.\n",
    "\n",
    "\n",
    "\n",
    "\n",
    "**Your Task:** Implement the function `PYTORCH_padding`."
   ]
  },
  {
   "cell_type": "code",
   "execution_count": 45,
   "id": "939bdd91",
   "metadata": {},
   "outputs": [],
   "source": [
    "def PYTORCH_padding(X,pad_widths):\n",
    "    \"\"\"\n",
    "    This involves adding extra elements (usually zeros) \n",
    "    around the edges of a tensor.\n",
    "    We will encounter this during convolutional operations \n",
    "    to control the spatial dimensions of the output.\n",
    "\n",
    "    Parameters:\n",
    "    X (torch.Tensor): input tensor which is to be padded.\n",
    "    pad_widths (tuple): even number of elements in tuple \n",
    "    that represents padding widths in the order \n",
    "    columns,rows and channels.\n",
    "\n",
    "    Returns:\n",
    "    torch.Tensor: stacked tensor.\n",
    "    \"\"\"\n",
    "    \n",
    "    #TODO\n",
    "    \n",
    "\n",
    "    return z "
   ]
  },
  {
   "cell_type": "code",
   "execution_count": 48,
   "id": "8045aa45",
   "metadata": {},
   "outputs": [
    {
     "name": "stdout",
     "output_type": "stream",
     "text": [
      "Original tensor([[[6, 1],\n",
      "         [4, 4]],\n",
      "\n",
      "        [[8, 4],\n",
      "         [6, 3]]])\n",
      "New tensor([[[0, 0, 0, 0, 0, 0],\n",
      "         [0, 0, 6, 1, 0, 0],\n",
      "         [0, 0, 4, 4, 0, 0],\n",
      "         [0, 0, 0, 0, 0, 0]],\n",
      "\n",
      "        [[0, 0, 0, 0, 0, 0],\n",
      "         [0, 0, 8, 4, 0, 0],\n",
      "         [0, 0, 6, 3, 0, 0],\n",
      "         [0, 0, 0, 0, 0, 0]]])\n"
     ]
    }
   ],
   "source": [
    "np.random.seed(0)\n",
    "X = np.random.randint(1, 10, size=(2,2,2))\n",
    "X = numpy2tensor(X)\n",
    "print('Original',X)\n",
    "print('New',PYTORCH_padding(X,(2,2,1,1,0,0)))"
   ]
  }
 ],
 "metadata": {
  "kernelspec": {
   "display_name": "Python 3 (ipykernel)",
   "language": "python",
   "name": "python3"
  },
  "language_info": {
   "codemirror_mode": {
    "name": "ipython",
    "version": 3
   },
   "file_extension": ".py",
   "mimetype": "text/x-python",
   "name": "python",
   "nbconvert_exporter": "python",
   "pygments_lexer": "ipython3",
   "version": "3.10.13"
  }
 },
 "nbformat": 4,
 "nbformat_minor": 5
}
